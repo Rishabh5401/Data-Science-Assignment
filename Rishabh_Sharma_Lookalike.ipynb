{
 "cells": [
  {
   "cell_type": "code",
   "execution_count": 11,
   "id": "fa5fa567-3640-4d90-aab1-9bb62b647566",
   "metadata": {},
   "outputs": [
    {
     "name": "stdout",
     "output_type": "stream",
     "text": [
      "  CustomerID LookalikeID  SimilarityScore\n",
      "0      C0001       C0085         0.999999\n",
      "1      C0001       C0042         0.999822\n",
      "2      C0001       C0089         0.999785\n",
      "3      C0002       C0157         0.999994\n",
      "4      C0002       C0166         0.999875\n"
     ]
    }
   ],
   "source": [
    "import pandas as pd\n",
    "import numpy as np\n",
    "from sklearn.metrics.pairwise import cosine_similarity\n",
    "from sklearn.preprocessing import StandardScaler\n",
    "\n",
    "# Load data\n",
    "customers = pd.read_csv('Customers.csv')\n",
    "transactions = pd.read_csv('Transactions.csv')\n",
    "\n",
    "# Aggregate transaction data by customer\n",
    "transaction_summary = transactions.groupby('CustomerID').agg({'TotalValue': 'sum', 'Quantity': 'sum'}).reset_index()\n",
    "\n",
    "# Merging customer and transaction data\n",
    "customer_data = pd.merge(customers, transaction_summary, on='CustomerID')\n",
    "\n",
    "# Feature Engineering (using TotalValue and Quantity for simplicity)\n",
    "features = customer_data[['TotalValue', 'Quantity']]\n",
    "\n",
    "# Normalize data\n",
    "scaler = StandardScaler()\n",
    "features_scaled = scaler.fit_transform(features)\n",
    "\n",
    "# Calculate Cosine Similarity\n",
    "cosine_sim = cosine_similarity(features_scaled)\n",
    "\n",
    "# Function to get top N similar customers\n",
    "def get_top_n_similar(customer_id, cosine_sim, n=3):\n",
    "    idx = customer_data[customer_data['CustomerID'] == customer_id].index[0]\n",
    "    similarity_scores = list(enumerate(cosine_sim[idx]))\n",
    "    sorted_scores = sorted(similarity_scores, key=lambda x: x[1], reverse=True)[1:n+1]\n",
    "    similar_customers = [(customer_data.iloc[i[0]]['CustomerID'], i[1]) for i in sorted_scores]\n",
    "    return similar_customers\n",
    "\n",
    "# Generate Lookalikes for first 20 customers (C0001 to C0020)\n",
    "lookalike_map = {}\n",
    "for i in range(1, 21):\n",
    "    customer_id = f'C{i:04d}'\n",
    "    top_similar_customers = get_top_n_similar(customer_id, cosine_sim)\n",
    "    lookalike_map[customer_id] = top_similar_customers\n",
    "\n",
    "# Convert the lookalike_map to a DataFrame\n",
    "lookalike_data = []\n",
    "for customer_id, similar_customers in lookalike_map.items():\n",
    "    for similar_customer, score in similar_customers:\n",
    "        lookalike_data.append([customer_id, similar_customer, score])\n",
    "\n",
    "lookalike_df = pd.DataFrame(lookalike_data, columns=['CustomerID', 'LookalikeID', 'SimilarityScore'])\n",
    "\n",
    "# Save to CSV\n",
    "lookalike_df.to_csv('Lookalike.csv', index=False)\n",
    "\n",
    "# Display the first few entries of the lookalike dataframe\n",
    "print(lookalike_df.head())\n"
   ]
  },
  {
   "cell_type": "code",
   "execution_count": null,
   "id": "921110c0-ce2f-4fbd-af5b-95e619dd6842",
   "metadata": {},
   "outputs": [],
   "source": []
  }
 ],
 "metadata": {
  "kernelspec": {
   "display_name": "Python 3",
   "language": "python",
   "name": "python3"
  },
  "language_info": {
   "codemirror_mode": {
    "name": "ipython",
    "version": 3
   },
   "file_extension": ".py",
   "mimetype": "text/x-python",
   "name": "python",
   "nbconvert_exporter": "python",
   "pygments_lexer": "ipython3",
   "version": "3.12.3"
  }
 },
 "nbformat": 4,
 "nbformat_minor": 5
}
